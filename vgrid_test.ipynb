{
 "cells": [
  {
   "cell_type": "code",
   "execution_count": null,
   "metadata": {
    "ExecuteTime": {
     "end_time": "2019-04-21T19:49:03.056730Z",
     "start_time": "2019-04-21T19:49:03.035877Z"
    }
   },
   "outputs": [],
   "source": [
    "%load_ext autoreload\n",
    "%autoreload 2"
   ]
  },
  {
   "cell_type": "code",
   "execution_count": null,
   "metadata": {
    "ExecuteTime": {
     "end_time": "2019-04-21T19:49:03.605497Z",
     "start_time": "2019-04-21T19:49:03.575514Z"
    }
   },
   "outputs": [],
   "source": [
    "from rekall import Interval, IntervalSet, IntervalSetMapping, Bounds3D\n",
    "from vgrid_jupyter import VGridWidget\n",
    "from vgrid import VideoVBlocksBuilder, VideoTrackBuilder, DrawType_Bbox, \\\n",
    "    Metadata_Categorical, VideoMetadata, IntervalVBlocksBuilder, IntervalTrackBuilder"
   ]
  },
  {
   "cell_type": "code",
   "execution_count": null,
   "metadata": {
    "ExecuteTime": {
     "end_time": "2019-04-21T19:49:24.379438Z",
     "start_time": "2019-04-21T19:49:24.277817Z"
    },
    "scrolled": false
   },
   "outputs": [],
   "source": [
    "video = VideoMetadata(path='CNNW_20120201_180000_CNN_Newsroom.mp4', id=1)\n",
    "iset = IntervalSet([Interval(Bounds3D(0, 10)), Interval(Bounds3D(20, 30))])\n",
    "intervals = IntervalSetMapping({1: iset})\n",
    "\n",
    "vgrid_json = VideoVBlocksBuilder() \\\n",
    "    .add_track(VideoTrackBuilder('test', intervals)) \\\n",
    "    .add_video_metadata('http://localhost:8000', [video]) \\\n",
    "    .build()\n",
    "\n",
    "widget = VGridWidget(vgrid_json=vgrid_json)\n",
    "widget"
   ]
  },
  {
   "cell_type": "code",
   "execution_count": null,
   "metadata": {
    "ExecuteTime": {
     "end_time": "2019-04-21T19:49:17.681817Z",
     "start_time": "2019-04-21T19:49:17.658901Z"
    }
   },
   "outputs": [],
   "source": [
    "vgrid_json = IntervalVBlocksBuilder() \\\n",
    "    .add_track(IntervalTrackBuilder('test')) \\\n",
    "    .add_video_metadata('http://localhost:8000', [video]) \\\n",
    "    .build(intervals)\n",
    "\n",
    "VGridWidget(vgrid_json=vgrid_json)"
   ]
  },
  {
   "cell_type": "code",
   "execution_count": null,
   "metadata": {
    "ExecuteTime": {
     "end_time": "2019-04-21T19:49:47.557161Z",
     "start_time": "2019-04-21T19:49:47.540530Z"
    }
   },
   "outputs": [],
   "source": [
    "print(widget.label_state)"
   ]
  }
 ],
 "metadata": {
  "kernelspec": {
   "display_name": "Python 3",
   "language": "python",
   "name": "python3"
  },
  "language_info": {
   "codemirror_mode": {
    "name": "ipython",
    "version": 3
   },
   "file_extension": ".py",
   "mimetype": "text/x-python",
   "name": "python",
   "nbconvert_exporter": "python",
   "pygments_lexer": "ipython3",
   "version": "3.7.3"
  },
  "toc": {
   "base_numbering": 1,
   "nav_menu": {},
   "number_sections": true,
   "sideBar": true,
   "skip_h1_title": false,
   "title_cell": "Table of Contents",
   "title_sidebar": "Contents",
   "toc_cell": false,
   "toc_position": {},
   "toc_section_display": true,
   "toc_window_display": false
  },
  "varInspector": {
   "cols": {
    "lenName": 16,
    "lenType": 16,
    "lenVar": 40
   },
   "kernels_config": {
    "python": {
     "delete_cmd_postfix": "",
     "delete_cmd_prefix": "del ",
     "library": "var_list.py",
     "varRefreshCmd": "print(var_dic_list())"
    },
    "r": {
     "delete_cmd_postfix": ") ",
     "delete_cmd_prefix": "rm(",
     "library": "var_list.r",
     "varRefreshCmd": "cat(var_dic_list()) "
    }
   },
   "types_to_exclude": [
    "module",
    "function",
    "builtin_function_or_method",
    "instance",
    "_Feature"
   ],
   "window_display": false
  }
 },
 "nbformat": 4,
 "nbformat_minor": 2
}
