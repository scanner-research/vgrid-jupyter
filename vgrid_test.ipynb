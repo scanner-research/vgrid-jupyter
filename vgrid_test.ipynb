{
 "cells": [
  {
   "cell_type": "code",
   "execution_count": null,
   "metadata": {
    "ExecuteTime": {
     "end_time": "2019-04-04T21:04:25.106020Z",
     "start_time": "2019-04-04T21:04:25.090805Z"
    }
   },
   "outputs": [],
   "source": [
    "%load_ext autoreload\n",
    "%autoreload 2"
   ]
  },
  {
   "cell_type": "code",
   "execution_count": null,
   "metadata": {
    "ExecuteTime": {
     "end_time": "2019-04-04T21:14:03.169869Z",
     "start_time": "2019-04-04T21:14:03.155807Z"
    }
   },
   "outputs": [],
   "source": [
    "from rekall.video_interval_collection_3d import VideoIntervalCollection3D\n",
    "from rekall.interval_set_3d import Interval3D, IntervalSet3D\n",
    "from vgrid_jupyter import VGridWidget\n",
    "from rekall.vgrid_utils.vblocks_builder import VideoVBlocksBuilder, VideoTrackBuilder, DrawType_Bbox, Metadata_Categorical\n",
    "from rekall.domain_interval_collection import DomainIntervalCollection\n",
    "from rekall.vgrid_utils.database_builder import DbVideo, DatabaseBuilder"
   ]
  },
  {
   "cell_type": "code",
   "execution_count": null,
   "metadata": {
    "ExecuteTime": {
     "end_time": "2019-04-04T21:14:35.095076Z",
     "start_time": "2019-04-04T21:14:35.010564Z"
    },
    "scrolled": false
   },
   "outputs": [],
   "source": [
    "video = DbVideo(path='CNNW_20120201_180000_CNN_Newsroom.mp4', id=1)\n",
    "iset = IntervalSet3D([Interval3D((0, 10))])\n",
    "intervals = DomainIntervalCollection({1: iset})\n",
    "\n",
    "blocks = VideoVBlocksBuilder() \\\n",
    "    .add_track(\n",
    "        VideoTrackBuilder('test', intervals) \\\n",
    "            .set_draw_type(DrawType_Bbox())) \\\n",
    "    .build()\n",
    "\n",
    "db = DatabaseBuilder(video_baseurl='http://localhost:8000') \\\n",
    "    .add_videos([video]) \\\n",
    "    .build()\n",
    "\n",
    "VGridWidget(interval_blocks=blocks, database=db)"
   ]
  }
 ],
 "metadata": {
  "kernelspec": {
   "display_name": "Python 3",
   "language": "python",
   "name": "python3"
  },
  "language_info": {
   "codemirror_mode": {
    "name": "ipython",
    "version": 3
   },
   "file_extension": ".py",
   "mimetype": "text/x-python",
   "name": "python",
   "nbconvert_exporter": "python",
   "pygments_lexer": "ipython3",
   "version": "3.7.3"
  },
  "toc": {
   "base_numbering": 1,
   "nav_menu": {},
   "number_sections": true,
   "sideBar": true,
   "skip_h1_title": false,
   "title_cell": "Table of Contents",
   "title_sidebar": "Contents",
   "toc_cell": false,
   "toc_position": {},
   "toc_section_display": true,
   "toc_window_display": false
  },
  "varInspector": {
   "cols": {
    "lenName": 16,
    "lenType": 16,
    "lenVar": 40
   },
   "kernels_config": {
    "python": {
     "delete_cmd_postfix": "",
     "delete_cmd_prefix": "del ",
     "library": "var_list.py",
     "varRefreshCmd": "print(var_dic_list())"
    },
    "r": {
     "delete_cmd_postfix": ") ",
     "delete_cmd_prefix": "rm(",
     "library": "var_list.r",
     "varRefreshCmd": "cat(var_dic_list()) "
    }
   },
   "types_to_exclude": [
    "module",
    "function",
    "builtin_function_or_method",
    "instance",
    "_Feature"
   ],
   "window_display": false
  }
 },
 "nbformat": 4,
 "nbformat_minor": 2
}
